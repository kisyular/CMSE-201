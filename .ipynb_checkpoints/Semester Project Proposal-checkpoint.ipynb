{
 "cells": [
  {
   "cell_type": "markdown",
   "metadata": {},
   "source": [
    "# Data analysis project - initial research\n"
   ]
  },
  {
   "cell_type": "markdown",
   "metadata": {},
   "source": [
    "## Your name"
   ]
  },
  {
   "cell_type": "markdown",
   "metadata": {},
   "source": [
    "Rellika Kisyula"
   ]
  },
  {
   "cell_type": "markdown",
   "metadata": {},
   "source": [
    "## Goals for this assignment\n",
    "\n",
    "For your data analysis project, you have been asked to find and analyze a publicly-available dataset, and to use that analysis to answer questions asked of the data.\n",
    "\n",
    "**The point of this assignment** is to give you in-depth experience working with a dataset, coming up with questions, and doing data analysis and visualization to answer those questions.  In two weeks you'll be asked to turn in some preliminary analysis, and two weeks after that the final analysis.\n",
    "\n",
    "You first need to find two public datasets, and identify some questions that you can answer with those datasets.  Some places that you can look are:\n",
    "\n",
    "- [Data.gov - Federal](http://www.data.gov)\n",
    "- [Data.gov - State of Michigan](http://data.michigan.gov)\n",
    "- [Kaggle](http://kaggle.com)\n",
    "- [Data.world](http://data.world)\n",
    "- [A large list of public datasets](https://github.com/caesar0301/awesome-public-datasets)\n",
    "\n",
    "\n",
    "## Questions\n",
    "\n",
    "\n",
    "**Briefly describe** the two datasets that you presented to your group (a sentence or two for each, including a link to where you found the datasets and the kinds of questions that you might ask of each dataset).  Which dataset are you going to analyze, and why did you choose that one?"
   ]
  },
  {
   "cell_type": "markdown",
   "metadata": {},
   "source": [
    "1. The first of the datasets talks about the fire. It shows how many fire were reported in a year, the number of fire fighters that year, the number of volunteer fire fighters and corresponding fire station for that year\n",
    "2. The second dataset talks about the tragedy of the Titanic Ship which sank in 1912. The dataset shows those who perished (RIP), their ticket number, their age, amount of fare they paid and their biological gender.\n",
    "\n",
    "Questions:\n",
    "\n",
    "For dataset One: \"Fire\"\n",
    "    1. Did the number of fire stations affect the amount of fire cases reported\n",
    "    2. What is the relationship between volunteering as fire fighter and as a career\n",
    "    3. Reasons why fire department stations are constantly increasing and decreasing in the course of the dataset\n",
    "    4. How to predict the number of fire cases in future using the trend show in the past year\n",
    "For dataset Two: \"Titanic Accident\":\n",
    "    1. I want to see the correlation of gender and the number of deaths in sea transport\n",
    "    2. Any relationship between the Cabin and the amount of death reported per cabin\n",
    "    \n",
    "    \n",
    "For now, I am leaning towards the fire accidents. It is more applicable in future and has huge rsearch arround to compare with my model if I make one\n"
   ]
  },
  {
   "cell_type": "markdown",
   "metadata": {},
   "source": [
    "**Describe the dataset** that you chose in more detail (i.e., the winner of the two you were thinking about).  In particular, talk about:\n",
    "\n",
    "1. What is this a dataset *of*?  In other words, what information is contained in the dataset?\n",
    "2. Why did you choose this dataset?  In other words, what interests you about it?\n",
    "3. What are the questions that you would like to answer with this data?  (this is non-binding - you can answer different questions once you've started analyzing the data)\n",
    "\n",
    "Make sure to put references to relevant web pages, articles, etc. in your answers - this is an important part of the project, and will significantly affect your grade!  You can add links either by putting the URL in directly (i.e., www.google.com) or by using this syntax:\n",
    "\n",
    "```\n",
    "[text](URL)\n",
    "```\n",
    "\n",
    "(note that this latter method is preferred for long URLs)."
   ]
  },
  {
   "cell_type": "markdown",
   "metadata": {},
   "source": [
    "1. I will work on the Fire Accidents and Cases in the united states. I want also to see if there is relationship between total fire reported and the number of volunteers, number of fire stations, or career openings\n",
    "\n",
    "2. I choose this data because it is more applicable even today. Fire cases goes even unreported in Developing countries. I want to use the model and the dataset in United States to suggest a model which can be applied in the Developing Countries.\n",
    "\n",
    "\n",
    "For the Fire Dataset, the link is [Fire Dataset](https://www.quandl.com/data/NFPA/23688-U-S-Fire-Service-Firefighters-and-Fire-Departments)\n",
    "\n",
    "For the Titanic Accident, I have uploaded the CVS file to dropbox. I think I forgot the link to its locations in www."
   ]
  },
  {
   "cell_type": "markdown",
   "metadata": {},
   "source": [
    "// put your answer here!"
   ]
  },
  {
   "cell_type": "markdown",
   "metadata": {},
   "source": [
    "**What questions do you still have about your dataset** now that you've spent some time doing research?"
   ]
  },
  {
   "cell_type": "markdown",
   "metadata": {},
   "source": [
    "#### I am still having issue understanding the dataset requirement. What should be contained in the dataset to make it valid. How will the selection of our Dataset affect our final Project grades.\n",
    "\n",
    "#### Another question is what entails a good data analysis. Is vizualization enough or can we add external resources to back up our model?"
   ]
  },
  {
   "cell_type": "markdown",
   "metadata": {},
   "source": [
    "----\n",
    "\n",
    "# Congratulations, you're done!\n",
    "\n",
    "## How to submit this assignment\n",
    "\n",
    "Log into the course Desire2Learn website (d2l.msu.edu) and go to the \"Semester Project\" folder.  There will be a dropbox labeled \"Initial research summary\".  Upload this notebook there. "
   ]
  }
 ],
 "metadata": {
  "anaconda-cloud": {},
  "kernelspec": {
   "display_name": "Python [default]",
   "language": "python",
   "name": "python3"
  },
  "language_info": {
   "codemirror_mode": {
    "name": "ipython",
    "version": 3
   },
   "file_extension": ".py",
   "mimetype": "text/x-python",
   "name": "python",
   "nbconvert_exporter": "python",
   "pygments_lexer": "ipython3",
   "version": "3.5.2"
  }
 },
 "nbformat": 4,
 "nbformat_minor": 0
}
